import numpy as np #подключаем библиотеку Pandas

def game_core_v1(number): #функция подбора числа
    start = 1 # min возможное число
    end = 100 # max возможное число
    count = 0 # счетчик попыток
    while True: 
        current = (start+end)//2 # предполагаемое число, среднее между max и min значением  
        count+=1 # +1 к счетчику
        if current == number: # сравнение угадан номер или нет
            break # остановка поиска
        elif current < number: # если предполагаемое число меньше
            start = current + 1 # смещаем минимум
        elif current > number: # если предполагаемое число меньше
            end = current - 1 # смещаем максимум
    return(count) # итоговый счетчик

def score_game(game_core):
    '''Запускаем игру 1000 раз, чтобы узнать, как быстро игра угадывает число'''
    count_ls = []
    np.random.seed(1)  # фиксируем RANDOM SEED, чтобы ваш эксперимент был воспроизводим!
    random_array = np.random.randint(1,101, size=(1000))
    for number in random_array:
        count_ls.append(game_core(number))
    score = int(np.mean(count_ls))
    print(f"Ваш алгоритм угадывает число в среднем за {score} попыток")
    return(score)

score_game(game_core_v1)
