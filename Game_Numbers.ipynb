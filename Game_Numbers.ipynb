{
 "cells": [
  {
   "cell_type": "code",
   "execution_count": null,
   "metadata": {},
   "outputs": [],
   "source": [
    "import numpy as np #подключаем библиотеку Pandas\n",
    "\n",
    "def game_core_v1(number): #функция подбора числа\n",
    "    start = 1 # min возможное число\n",
    "    end = 100 # max возможное число\n",
    "    count = 0 # счетчик попыток\n",
    "    while True: \n",
    "        current = (start+end)//2 # предполагаемое число, среднее между max и min значением  \n",
    "        count+=1 # +1 к счетчику\n",
    "        if current == number: # сравнение угадан номер или нет\n",
    "            break # остановка поиска\n",
    "        elif current < number: # если предполагаемое число меньше\n",
    "            start = current + 1 # смещаем минимум\n",
    "        elif current > number: # если предполагаемое число меньше\n",
    "            end = current - 1 # смещаем максимум\n",
    "    return(count) # итоговый счетчик\n",
    "\n",
    "def score_game(game_core):\n",
    "    '''Запускаем игру 1000 раз, чтобы узнать, как быстро игра угадывает число'''\n",
    "    count_ls = []\n",
    "    np.random.seed(1)  # фиксируем RANDOM SEED, чтобы ваш эксперимент был воспроизводим!\n",
    "    random_array = np.random.randint(1,101, size=(1000))\n",
    "    for number in random_array:\n",
    "        count_ls.append(game_core(number))\n",
    "    score = int(np.mean(count_ls))\n",
    "    print(f\"Ваш алгоритм угадывает число в среднем за {score} попыток\")\n",
    "    return(score)\n",
    "\n",
    "score_game(game_core_v1)"
   ]
  }
 ],
 "metadata": {
  "kernelspec": {
   "display_name": "Python 3",
   "language": "python",
   "name": "python3"
  },
  "language_info": {
   "codemirror_mode": {
    "name": "ipython",
    "version": 3
   },
   "file_extension": ".py",
   "mimetype": "text/x-python",
   "name": "python",
   "nbconvert_exporter": "python",
   "pygments_lexer": "ipython3",
   "version": "3.8.3"
  }
 },
 "nbformat": 4,
 "nbformat_minor": 4
}
